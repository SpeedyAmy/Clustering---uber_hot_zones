{
 "cells": [
  {
   "cell_type": "markdown",
   "id": "9d184ffb-459c-4152-a973-f3f7905579b2",
   "metadata": {},
   "source": [
    "# UBER Pickups project "
   ]
  },
  {
   "cell_type": "code",
   "execution_count": 1,
   "id": "ceac3f07-e6d1-4b3d-981b-d26a09a9b219",
   "metadata": {},
   "outputs": [],
   "source": [
    "import pandas as pd\n",
    "import numpy as np\n",
    "\n",
    "from sklearn.pipeline import Pipeline\n",
    "from sklearn.impute import SimpleImputer\n",
    "from sklearn.preprocessing import  OneHotEncoder, StandardScaler\n",
    "from sklearn.compose import ColumnTransformer\n",
    "from sklearn.cluster import KMeans, DBSCAN\n",
    "from sklearn.metrics import  silhouette_score\n",
    "\n",
    "import warnings\n",
    "warnings.filterwarnings(\"ignore\", category=DeprecationWarning) \n",
    "\n",
    "import plotly.express as px\n",
    "import plotly.io as pio\n",
    "pio.renderers.default = \"iframe_connected\""
   ]
  },
  {
   "cell_type": "code",
   "execution_count": 2,
   "id": "dfbbe94c-230b-482f-8f9d-fa60d066607b",
   "metadata": {},
   "outputs": [],
   "source": [
    "#import data \n",
    "data = pd.read_csv('uber-raw-data-apr14.csv')"
   ]
  },
  {
   "cell_type": "code",
   "execution_count": 3,
   "id": "8a582554-b87c-40d0-bb21-ae13d11b5494",
   "metadata": {},
   "outputs": [
    {
     "data": {
      "text/plain": [
       "(564516, 4)"
      ]
     },
     "execution_count": 3,
     "metadata": {},
     "output_type": "execute_result"
    }
   ],
   "source": [
    "data.shape"
   ]
  },
  {
   "cell_type": "code",
   "execution_count": 4,
   "id": "5b159341-76f6-40cc-99b4-0ae3bf68055c",
   "metadata": {},
   "outputs": [
    {
     "data": {
      "text/html": [
       "<div>\n",
       "<style scoped>\n",
       "    .dataframe tbody tr th:only-of-type {\n",
       "        vertical-align: middle;\n",
       "    }\n",
       "\n",
       "    .dataframe tbody tr th {\n",
       "        vertical-align: top;\n",
       "    }\n",
       "\n",
       "    .dataframe thead th {\n",
       "        text-align: right;\n",
       "    }\n",
       "</style>\n",
       "<table border=\"1\" class=\"dataframe\">\n",
       "  <thead>\n",
       "    <tr style=\"text-align: right;\">\n",
       "      <th></th>\n",
       "      <th>Date/Time</th>\n",
       "      <th>Lat</th>\n",
       "      <th>Lon</th>\n",
       "      <th>Base</th>\n",
       "    </tr>\n",
       "  </thead>\n",
       "  <tbody>\n",
       "    <tr>\n",
       "      <th>0</th>\n",
       "      <td>4/1/2014 0:11:00</td>\n",
       "      <td>40.7690</td>\n",
       "      <td>-73.9549</td>\n",
       "      <td>B02512</td>\n",
       "    </tr>\n",
       "    <tr>\n",
       "      <th>1</th>\n",
       "      <td>4/1/2014 0:17:00</td>\n",
       "      <td>40.7267</td>\n",
       "      <td>-74.0345</td>\n",
       "      <td>B02512</td>\n",
       "    </tr>\n",
       "    <tr>\n",
       "      <th>2</th>\n",
       "      <td>4/1/2014 0:21:00</td>\n",
       "      <td>40.7316</td>\n",
       "      <td>-73.9873</td>\n",
       "      <td>B02512</td>\n",
       "    </tr>\n",
       "    <tr>\n",
       "      <th>3</th>\n",
       "      <td>4/1/2014 0:28:00</td>\n",
       "      <td>40.7588</td>\n",
       "      <td>-73.9776</td>\n",
       "      <td>B02512</td>\n",
       "    </tr>\n",
       "    <tr>\n",
       "      <th>4</th>\n",
       "      <td>4/1/2014 0:33:00</td>\n",
       "      <td>40.7594</td>\n",
       "      <td>-73.9722</td>\n",
       "      <td>B02512</td>\n",
       "    </tr>\n",
       "  </tbody>\n",
       "</table>\n",
       "</div>"
      ],
      "text/plain": [
       "          Date/Time      Lat      Lon    Base\n",
       "0  4/1/2014 0:11:00  40.7690 -73.9549  B02512\n",
       "1  4/1/2014 0:17:00  40.7267 -74.0345  B02512\n",
       "2  4/1/2014 0:21:00  40.7316 -73.9873  B02512\n",
       "3  4/1/2014 0:28:00  40.7588 -73.9776  B02512\n",
       "4  4/1/2014 0:33:00  40.7594 -73.9722  B02512"
      ]
     },
     "execution_count": 4,
     "metadata": {},
     "output_type": "execute_result"
    }
   ],
   "source": [
    "data.head()"
   ]
  },
  {
   "cell_type": "code",
   "execution_count": 5,
   "id": "90f5f3f1-42be-4ea4-a2fd-470ff3fc33f1",
   "metadata": {},
   "outputs": [
    {
     "data": {
      "text/html": [
       "<div>\n",
       "<style scoped>\n",
       "    .dataframe tbody tr th:only-of-type {\n",
       "        vertical-align: middle;\n",
       "    }\n",
       "\n",
       "    .dataframe tbody tr th {\n",
       "        vertical-align: top;\n",
       "    }\n",
       "\n",
       "    .dataframe thead th {\n",
       "        text-align: right;\n",
       "    }\n",
       "</style>\n",
       "<table border=\"1\" class=\"dataframe\">\n",
       "  <thead>\n",
       "    <tr style=\"text-align: right;\">\n",
       "      <th></th>\n",
       "      <th>Date/Time</th>\n",
       "      <th>Lat</th>\n",
       "      <th>Lon</th>\n",
       "      <th>Base</th>\n",
       "    </tr>\n",
       "  </thead>\n",
       "  <tbody>\n",
       "    <tr>\n",
       "      <th>count</th>\n",
       "      <td>564516</td>\n",
       "      <td>564516.000000</td>\n",
       "      <td>564516.000000</td>\n",
       "      <td>564516</td>\n",
       "    </tr>\n",
       "    <tr>\n",
       "      <th>unique</th>\n",
       "      <td>41999</td>\n",
       "      <td>NaN</td>\n",
       "      <td>NaN</td>\n",
       "      <td>5</td>\n",
       "    </tr>\n",
       "    <tr>\n",
       "      <th>top</th>\n",
       "      <td>4/7/2014 20:21:00</td>\n",
       "      <td>NaN</td>\n",
       "      <td>NaN</td>\n",
       "      <td>B02682</td>\n",
       "    </tr>\n",
       "    <tr>\n",
       "      <th>freq</th>\n",
       "      <td>97</td>\n",
       "      <td>NaN</td>\n",
       "      <td>NaN</td>\n",
       "      <td>227808</td>\n",
       "    </tr>\n",
       "    <tr>\n",
       "      <th>mean</th>\n",
       "      <td>NaN</td>\n",
       "      <td>40.740005</td>\n",
       "      <td>-73.976817</td>\n",
       "      <td>NaN</td>\n",
       "    </tr>\n",
       "    <tr>\n",
       "      <th>std</th>\n",
       "      <td>NaN</td>\n",
       "      <td>0.036083</td>\n",
       "      <td>0.050426</td>\n",
       "      <td>NaN</td>\n",
       "    </tr>\n",
       "    <tr>\n",
       "      <th>min</th>\n",
       "      <td>NaN</td>\n",
       "      <td>40.072900</td>\n",
       "      <td>-74.773300</td>\n",
       "      <td>NaN</td>\n",
       "    </tr>\n",
       "    <tr>\n",
       "      <th>25%</th>\n",
       "      <td>NaN</td>\n",
       "      <td>40.722500</td>\n",
       "      <td>-73.997700</td>\n",
       "      <td>NaN</td>\n",
       "    </tr>\n",
       "    <tr>\n",
       "      <th>50%</th>\n",
       "      <td>NaN</td>\n",
       "      <td>40.742500</td>\n",
       "      <td>-73.984800</td>\n",
       "      <td>NaN</td>\n",
       "    </tr>\n",
       "    <tr>\n",
       "      <th>75%</th>\n",
       "      <td>NaN</td>\n",
       "      <td>40.760700</td>\n",
       "      <td>-73.970000</td>\n",
       "      <td>NaN</td>\n",
       "    </tr>\n",
       "    <tr>\n",
       "      <th>max</th>\n",
       "      <td>NaN</td>\n",
       "      <td>42.116600</td>\n",
       "      <td>-72.066600</td>\n",
       "      <td>NaN</td>\n",
       "    </tr>\n",
       "  </tbody>\n",
       "</table>\n",
       "</div>"
      ],
      "text/plain": [
       "                Date/Time            Lat            Lon    Base\n",
       "count              564516  564516.000000  564516.000000  564516\n",
       "unique              41999            NaN            NaN       5\n",
       "top     4/7/2014 20:21:00            NaN            NaN  B02682\n",
       "freq                   97            NaN            NaN  227808\n",
       "mean                  NaN      40.740005     -73.976817     NaN\n",
       "std                   NaN       0.036083       0.050426     NaN\n",
       "min                   NaN      40.072900     -74.773300     NaN\n",
       "25%                   NaN      40.722500     -73.997700     NaN\n",
       "50%                   NaN      40.742500     -73.984800     NaN\n",
       "75%                   NaN      40.760700     -73.970000     NaN\n",
       "max                   NaN      42.116600     -72.066600     NaN"
      ]
     },
     "execution_count": 5,
     "metadata": {},
     "output_type": "execute_result"
    }
   ],
   "source": [
    "data.describe(include='all')"
   ]
  },
  {
   "cell_type": "code",
   "execution_count": 6,
   "id": "9ff78aff-3425-4128-aee2-b19d9bb6fd88",
   "metadata": {},
   "outputs": [],
   "source": [
    "#transfomr Date/Time variable into datime format and create hour, day of the week, day and year features "
   ]
  },
  {
   "cell_type": "code",
   "execution_count": 7,
   "id": "878240ea-fa6a-461e-ab58-9d142c258e2d",
   "metadata": {},
   "outputs": [
    {
     "data": {
      "text/html": [
       "<div>\n",
       "<style scoped>\n",
       "    .dataframe tbody tr th:only-of-type {\n",
       "        vertical-align: middle;\n",
       "    }\n",
       "\n",
       "    .dataframe tbody tr th {\n",
       "        vertical-align: top;\n",
       "    }\n",
       "\n",
       "    .dataframe thead th {\n",
       "        text-align: right;\n",
       "    }\n",
       "</style>\n",
       "<table border=\"1\" class=\"dataframe\">\n",
       "  <thead>\n",
       "    <tr style=\"text-align: right;\">\n",
       "      <th></th>\n",
       "      <th>date</th>\n",
       "      <th>hour</th>\n",
       "      <th>dayofweek</th>\n",
       "    </tr>\n",
       "  </thead>\n",
       "  <tbody>\n",
       "    <tr>\n",
       "      <th>0</th>\n",
       "      <td>2014-04-01 00:11:00</td>\n",
       "      <td>0</td>\n",
       "      <td>1</td>\n",
       "    </tr>\n",
       "    <tr>\n",
       "      <th>1</th>\n",
       "      <td>2014-04-01 00:17:00</td>\n",
       "      <td>0</td>\n",
       "      <td>1</td>\n",
       "    </tr>\n",
       "    <tr>\n",
       "      <th>2</th>\n",
       "      <td>2014-04-01 00:21:00</td>\n",
       "      <td>0</td>\n",
       "      <td>1</td>\n",
       "    </tr>\n",
       "    <tr>\n",
       "      <th>3</th>\n",
       "      <td>2014-04-01 00:28:00</td>\n",
       "      <td>0</td>\n",
       "      <td>1</td>\n",
       "    </tr>\n",
       "    <tr>\n",
       "      <th>4</th>\n",
       "      <td>2014-04-01 00:33:00</td>\n",
       "      <td>0</td>\n",
       "      <td>1</td>\n",
       "    </tr>\n",
       "    <tr>\n",
       "      <th>...</th>\n",
       "      <td>...</td>\n",
       "      <td>...</td>\n",
       "      <td>...</td>\n",
       "    </tr>\n",
       "    <tr>\n",
       "      <th>564511</th>\n",
       "      <td>2014-04-30 23:22:00</td>\n",
       "      <td>23</td>\n",
       "      <td>2</td>\n",
       "    </tr>\n",
       "    <tr>\n",
       "      <th>564512</th>\n",
       "      <td>2014-04-30 23:26:00</td>\n",
       "      <td>23</td>\n",
       "      <td>2</td>\n",
       "    </tr>\n",
       "    <tr>\n",
       "      <th>564513</th>\n",
       "      <td>2014-04-30 23:31:00</td>\n",
       "      <td>23</td>\n",
       "      <td>2</td>\n",
       "    </tr>\n",
       "    <tr>\n",
       "      <th>564514</th>\n",
       "      <td>2014-04-30 23:32:00</td>\n",
       "      <td>23</td>\n",
       "      <td>2</td>\n",
       "    </tr>\n",
       "    <tr>\n",
       "      <th>564515</th>\n",
       "      <td>2014-04-30 23:48:00</td>\n",
       "      <td>23</td>\n",
       "      <td>2</td>\n",
       "    </tr>\n",
       "  </tbody>\n",
       "</table>\n",
       "<p>564516 rows × 3 columns</p>\n",
       "</div>"
      ],
      "text/plain": [
       "                      date  hour  dayofweek\n",
       "0      2014-04-01 00:11:00     0          1\n",
       "1      2014-04-01 00:17:00     0          1\n",
       "2      2014-04-01 00:21:00     0          1\n",
       "3      2014-04-01 00:28:00     0          1\n",
       "4      2014-04-01 00:33:00     0          1\n",
       "...                    ...   ...        ...\n",
       "564511 2014-04-30 23:22:00    23          2\n",
       "564512 2014-04-30 23:26:00    23          2\n",
       "564513 2014-04-30 23:31:00    23          2\n",
       "564514 2014-04-30 23:32:00    23          2\n",
       "564515 2014-04-30 23:48:00    23          2\n",
       "\n",
       "[564516 rows x 3 columns]"
      ]
     },
     "metadata": {},
     "output_type": "display_data"
    }
   ],
   "source": [
    "def create_datefeatures(df):\n",
    "    \"\"\"\n",
    "    Creates time series features from datetime str feature.\n",
    "    \"\"\"\n",
    "    df = data.copy()\n",
    "    df['date'] = pd.to_datetime(data['Date/Time'], format=\"%m/%d/%Y %H:%M:%S\")\n",
    "    df['dayofweek'] = df['date'].dt.dayofweek\n",
    "    df['hour'] = df['date'].dt.hour\n",
    "    X = df[['date', 'hour', 'dayofweek']]\n",
    "    return X\n",
    "\n",
    "X = create_datefeatures(data)\n",
    "display(X)"
   ]
  },
  {
   "cell_type": "code",
   "execution_count": 8,
   "id": "f9230c4b-35ee-413b-a21f-74e345e200c8",
   "metadata": {},
   "outputs": [
    {
     "data": {
      "text/html": [
       "<div>\n",
       "<style scoped>\n",
       "    .dataframe tbody tr th:only-of-type {\n",
       "        vertical-align: middle;\n",
       "    }\n",
       "\n",
       "    .dataframe tbody tr th {\n",
       "        vertical-align: top;\n",
       "    }\n",
       "\n",
       "    .dataframe thead th {\n",
       "        text-align: right;\n",
       "    }\n",
       "</style>\n",
       "<table border=\"1\" class=\"dataframe\">\n",
       "  <thead>\n",
       "    <tr style=\"text-align: right;\">\n",
       "      <th></th>\n",
       "      <th>date</th>\n",
       "      <th>hour</th>\n",
       "      <th>dayofweek</th>\n",
       "      <th>Lat</th>\n",
       "      <th>Lon</th>\n",
       "      <th>Base</th>\n",
       "    </tr>\n",
       "  </thead>\n",
       "  <tbody>\n",
       "    <tr>\n",
       "      <th>0</th>\n",
       "      <td>2014-04-01 00:11:00</td>\n",
       "      <td>0</td>\n",
       "      <td>1</td>\n",
       "      <td>40.7690</td>\n",
       "      <td>-73.9549</td>\n",
       "      <td>B02512</td>\n",
       "    </tr>\n",
       "    <tr>\n",
       "      <th>1</th>\n",
       "      <td>2014-04-01 00:17:00</td>\n",
       "      <td>0</td>\n",
       "      <td>1</td>\n",
       "      <td>40.7267</td>\n",
       "      <td>-74.0345</td>\n",
       "      <td>B02512</td>\n",
       "    </tr>\n",
       "    <tr>\n",
       "      <th>2</th>\n",
       "      <td>2014-04-01 00:21:00</td>\n",
       "      <td>0</td>\n",
       "      <td>1</td>\n",
       "      <td>40.7316</td>\n",
       "      <td>-73.9873</td>\n",
       "      <td>B02512</td>\n",
       "    </tr>\n",
       "    <tr>\n",
       "      <th>3</th>\n",
       "      <td>2014-04-01 00:28:00</td>\n",
       "      <td>0</td>\n",
       "      <td>1</td>\n",
       "      <td>40.7588</td>\n",
       "      <td>-73.9776</td>\n",
       "      <td>B02512</td>\n",
       "    </tr>\n",
       "    <tr>\n",
       "      <th>4</th>\n",
       "      <td>2014-04-01 00:33:00</td>\n",
       "      <td>0</td>\n",
       "      <td>1</td>\n",
       "      <td>40.7594</td>\n",
       "      <td>-73.9722</td>\n",
       "      <td>B02512</td>\n",
       "    </tr>\n",
       "  </tbody>\n",
       "</table>\n",
       "</div>"
      ],
      "text/plain": [
       "                 date  hour  dayofweek      Lat      Lon    Base\n",
       "0 2014-04-01 00:11:00     0          1  40.7690 -73.9549  B02512\n",
       "1 2014-04-01 00:17:00     0          1  40.7267 -74.0345  B02512\n",
       "2 2014-04-01 00:21:00     0          1  40.7316 -73.9873  B02512\n",
       "3 2014-04-01 00:28:00     0          1  40.7588 -73.9776  B02512\n",
       "4 2014-04-01 00:33:00     0          1  40.7594 -73.9722  B02512"
      ]
     },
     "execution_count": 8,
     "metadata": {},
     "output_type": "execute_result"
    }
   ],
   "source": [
    "#concatenate with initial dataframe and drop date/tim column in str format\n",
    "df = pd.concat([X, data], axis=1)\n",
    "df = df.drop(['Date/Time'], axis=1)\n",
    "df.head()"
   ]
  },
  {
   "cell_type": "code",
   "execution_count": 9,
   "id": "371c29e6-2d6a-49bd-b546-d5eb494ffbc5",
   "metadata": {},
   "outputs": [
    {
     "name": "stderr",
     "output_type": "stream",
     "text": [
      "/tmp/ipykernel_275/2884002236.py:1: FutureWarning:\n",
      "\n",
      "Treating datetime data as categorical rather than numeric in `.describe` is deprecated and will be removed in a future version of pandas. Specify `datetime_is_numeric=True` to silence this warning and adopt the future behavior now.\n",
      "\n"
     ]
    },
    {
     "data": {
      "text/html": [
       "<div>\n",
       "<style scoped>\n",
       "    .dataframe tbody tr th:only-of-type {\n",
       "        vertical-align: middle;\n",
       "    }\n",
       "\n",
       "    .dataframe tbody tr th {\n",
       "        vertical-align: top;\n",
       "    }\n",
       "\n",
       "    .dataframe thead th {\n",
       "        text-align: right;\n",
       "    }\n",
       "</style>\n",
       "<table border=\"1\" class=\"dataframe\">\n",
       "  <thead>\n",
       "    <tr style=\"text-align: right;\">\n",
       "      <th></th>\n",
       "      <th>date</th>\n",
       "      <th>hour</th>\n",
       "      <th>dayofweek</th>\n",
       "      <th>Lat</th>\n",
       "      <th>Lon</th>\n",
       "      <th>Base</th>\n",
       "    </tr>\n",
       "  </thead>\n",
       "  <tbody>\n",
       "    <tr>\n",
       "      <th>count</th>\n",
       "      <td>564516</td>\n",
       "      <td>564516.000000</td>\n",
       "      <td>564516.00000</td>\n",
       "      <td>564516.000000</td>\n",
       "      <td>564516.000000</td>\n",
       "      <td>564516</td>\n",
       "    </tr>\n",
       "    <tr>\n",
       "      <th>unique</th>\n",
       "      <td>41999</td>\n",
       "      <td>NaN</td>\n",
       "      <td>NaN</td>\n",
       "      <td>NaN</td>\n",
       "      <td>NaN</td>\n",
       "      <td>5</td>\n",
       "    </tr>\n",
       "    <tr>\n",
       "      <th>top</th>\n",
       "      <td>2014-04-07 20:21:00</td>\n",
       "      <td>NaN</td>\n",
       "      <td>NaN</td>\n",
       "      <td>NaN</td>\n",
       "      <td>NaN</td>\n",
       "      <td>B02682</td>\n",
       "    </tr>\n",
       "    <tr>\n",
       "      <th>freq</th>\n",
       "      <td>97</td>\n",
       "      <td>NaN</td>\n",
       "      <td>NaN</td>\n",
       "      <td>NaN</td>\n",
       "      <td>NaN</td>\n",
       "      <td>227808</td>\n",
       "    </tr>\n",
       "    <tr>\n",
       "      <th>first</th>\n",
       "      <td>2014-04-01 00:00:00</td>\n",
       "      <td>NaN</td>\n",
       "      <td>NaN</td>\n",
       "      <td>NaN</td>\n",
       "      <td>NaN</td>\n",
       "      <td>NaN</td>\n",
       "    </tr>\n",
       "    <tr>\n",
       "      <th>last</th>\n",
       "      <td>2014-04-30 23:59:00</td>\n",
       "      <td>NaN</td>\n",
       "      <td>NaN</td>\n",
       "      <td>NaN</td>\n",
       "      <td>NaN</td>\n",
       "      <td>NaN</td>\n",
       "    </tr>\n",
       "    <tr>\n",
       "      <th>mean</th>\n",
       "      <td>NaN</td>\n",
       "      <td>14.465043</td>\n",
       "      <td>2.86698</td>\n",
       "      <td>40.740005</td>\n",
       "      <td>-73.976817</td>\n",
       "      <td>NaN</td>\n",
       "    </tr>\n",
       "    <tr>\n",
       "      <th>std</th>\n",
       "      <td>NaN</td>\n",
       "      <td>5.873925</td>\n",
       "      <td>1.82081</td>\n",
       "      <td>0.036083</td>\n",
       "      <td>0.050426</td>\n",
       "      <td>NaN</td>\n",
       "    </tr>\n",
       "    <tr>\n",
       "      <th>min</th>\n",
       "      <td>NaN</td>\n",
       "      <td>0.000000</td>\n",
       "      <td>0.00000</td>\n",
       "      <td>40.072900</td>\n",
       "      <td>-74.773300</td>\n",
       "      <td>NaN</td>\n",
       "    </tr>\n",
       "    <tr>\n",
       "      <th>25%</th>\n",
       "      <td>NaN</td>\n",
       "      <td>10.000000</td>\n",
       "      <td>1.00000</td>\n",
       "      <td>40.722500</td>\n",
       "      <td>-73.997700</td>\n",
       "      <td>NaN</td>\n",
       "    </tr>\n",
       "    <tr>\n",
       "      <th>50%</th>\n",
       "      <td>NaN</td>\n",
       "      <td>16.000000</td>\n",
       "      <td>3.00000</td>\n",
       "      <td>40.742500</td>\n",
       "      <td>-73.984800</td>\n",
       "      <td>NaN</td>\n",
       "    </tr>\n",
       "    <tr>\n",
       "      <th>75%</th>\n",
       "      <td>NaN</td>\n",
       "      <td>19.000000</td>\n",
       "      <td>4.00000</td>\n",
       "      <td>40.760700</td>\n",
       "      <td>-73.970000</td>\n",
       "      <td>NaN</td>\n",
       "    </tr>\n",
       "    <tr>\n",
       "      <th>max</th>\n",
       "      <td>NaN</td>\n",
       "      <td>23.000000</td>\n",
       "      <td>6.00000</td>\n",
       "      <td>42.116600</td>\n",
       "      <td>-72.066600</td>\n",
       "      <td>NaN</td>\n",
       "    </tr>\n",
       "  </tbody>\n",
       "</table>\n",
       "</div>"
      ],
      "text/plain": [
       "                       date           hour     dayofweek            Lat  \\\n",
       "count                564516  564516.000000  564516.00000  564516.000000   \n",
       "unique                41999            NaN           NaN            NaN   \n",
       "top     2014-04-07 20:21:00            NaN           NaN            NaN   \n",
       "freq                     97            NaN           NaN            NaN   \n",
       "first   2014-04-01 00:00:00            NaN           NaN            NaN   \n",
       "last    2014-04-30 23:59:00            NaN           NaN            NaN   \n",
       "mean                    NaN      14.465043       2.86698      40.740005   \n",
       "std                     NaN       5.873925       1.82081       0.036083   \n",
       "min                     NaN       0.000000       0.00000      40.072900   \n",
       "25%                     NaN      10.000000       1.00000      40.722500   \n",
       "50%                     NaN      16.000000       3.00000      40.742500   \n",
       "75%                     NaN      19.000000       4.00000      40.760700   \n",
       "max                     NaN      23.000000       6.00000      42.116600   \n",
       "\n",
       "                  Lon    Base  \n",
       "count   564516.000000  564516  \n",
       "unique            NaN       5  \n",
       "top               NaN  B02682  \n",
       "freq              NaN  227808  \n",
       "first             NaN     NaN  \n",
       "last              NaN     NaN  \n",
       "mean       -73.976817     NaN  \n",
       "std          0.050426     NaN  \n",
       "min        -74.773300     NaN  \n",
       "25%        -73.997700     NaN  \n",
       "50%        -73.984800     NaN  \n",
       "75%        -73.970000     NaN  \n",
       "max        -72.066600     NaN  "
      ]
     },
     "execution_count": 9,
     "metadata": {},
     "output_type": "execute_result"
    }
   ],
   "source": [
    "df.describe(include='all')"
   ]
  },
  {
   "cell_type": "code",
   "execution_count": 10,
   "id": "1299b9f4-3d55-4e82-8d80-f093b98431cc",
   "metadata": {},
   "outputs": [
    {
     "name": "stdout",
     "output_type": "stream",
     "text": [
      "<class 'pandas.core.frame.DataFrame'>\n",
      "RangeIndex: 564516 entries, 0 to 564515\n",
      "Data columns (total 6 columns):\n",
      " #   Column     Non-Null Count   Dtype         \n",
      "---  ------     --------------   -----         \n",
      " 0   date       564516 non-null  datetime64[ns]\n",
      " 1   hour       564516 non-null  int64         \n",
      " 2   dayofweek  564516 non-null  int64         \n",
      " 3   Lat        564516 non-null  float64       \n",
      " 4   Lon        564516 non-null  float64       \n",
      " 5   Base       564516 non-null  object        \n",
      "dtypes: datetime64[ns](1), float64(2), int64(2), object(1)\n",
      "memory usage: 25.8+ MB\n"
     ]
    }
   ],
   "source": [
    "df.info() #no missing values , no need of imputer . we will have to standarise numeric values"
   ]
  },
  {
   "cell_type": "code",
   "execution_count": 11,
   "id": "89afa267-ca20-4cf7-996a-a1cf91b43147",
   "metadata": {},
   "outputs": [
    {
     "data": {
      "text/plain": [
       "B02682    227808\n",
       "B02598    183263\n",
       "B02617    108001\n",
       "B02512     35536\n",
       "B02764      9908\n",
       "Name: Base, dtype: int64"
      ]
     },
     "execution_count": 11,
     "metadata": {},
     "output_type": "execute_result"
    }
   ],
   "source": [
    "df['Base'].value_counts() #there are 5 categories for base feature, seems useless for the purpose of the project.we will drop it for now"
   ]
  },
  {
   "cell_type": "code",
   "execution_count": 12,
   "id": "1cb2d29a-8039-46ee-ab16-0f6ee8782deb",
   "metadata": {},
   "outputs": [],
   "source": [
    "df = df.drop(['Base','date'], axis=1)"
   ]
  },
  {
   "cell_type": "code",
   "execution_count": 13,
   "id": "051dcfa7-5d54-4dc3-9826-a023274e8579",
   "metadata": {},
   "outputs": [
    {
     "data": {
      "text/html": [
       "<div>\n",
       "<style scoped>\n",
       "    .dataframe tbody tr th:only-of-type {\n",
       "        vertical-align: middle;\n",
       "    }\n",
       "\n",
       "    .dataframe tbody tr th {\n",
       "        vertical-align: top;\n",
       "    }\n",
       "\n",
       "    .dataframe thead th {\n",
       "        text-align: right;\n",
       "    }\n",
       "</style>\n",
       "<table border=\"1\" class=\"dataframe\">\n",
       "  <thead>\n",
       "    <tr style=\"text-align: right;\">\n",
       "      <th></th>\n",
       "      <th>hour</th>\n",
       "      <th>dayofweek</th>\n",
       "      <th>Lat</th>\n",
       "      <th>Lon</th>\n",
       "    </tr>\n",
       "  </thead>\n",
       "  <tbody>\n",
       "    <tr>\n",
       "      <th>564511</th>\n",
       "      <td>23</td>\n",
       "      <td>2</td>\n",
       "      <td>40.7640</td>\n",
       "      <td>-73.9744</td>\n",
       "    </tr>\n",
       "    <tr>\n",
       "      <th>564512</th>\n",
       "      <td>23</td>\n",
       "      <td>2</td>\n",
       "      <td>40.7629</td>\n",
       "      <td>-73.9672</td>\n",
       "    </tr>\n",
       "    <tr>\n",
       "      <th>564513</th>\n",
       "      <td>23</td>\n",
       "      <td>2</td>\n",
       "      <td>40.7443</td>\n",
       "      <td>-73.9889</td>\n",
       "    </tr>\n",
       "    <tr>\n",
       "      <th>564514</th>\n",
       "      <td>23</td>\n",
       "      <td>2</td>\n",
       "      <td>40.6756</td>\n",
       "      <td>-73.9405</td>\n",
       "    </tr>\n",
       "    <tr>\n",
       "      <th>564515</th>\n",
       "      <td>23</td>\n",
       "      <td>2</td>\n",
       "      <td>40.6880</td>\n",
       "      <td>-73.9608</td>\n",
       "    </tr>\n",
       "  </tbody>\n",
       "</table>\n",
       "</div>"
      ],
      "text/plain": [
       "        hour  dayofweek      Lat      Lon\n",
       "564511    23          2  40.7640 -73.9744\n",
       "564512    23          2  40.7629 -73.9672\n",
       "564513    23          2  40.7443 -73.9889\n",
       "564514    23          2  40.6756 -73.9405\n",
       "564515    23          2  40.6880 -73.9608"
      ]
     },
     "execution_count": 13,
     "metadata": {},
     "output_type": "execute_result"
    }
   ],
   "source": [
    "df.tail()"
   ]
  },
  {
   "cell_type": "code",
   "execution_count": 14,
   "id": "d3d08a17-e4c7-4a94-a66a-ecbfb13570ce",
   "metadata": {},
   "outputs": [],
   "source": [
    "df_sample = df.sample(n=10000, random_state=0)"
   ]
  },
  {
   "cell_type": "code",
   "execution_count": 15,
   "id": "c380fa67-d454-48f7-bef1-cde02e35dd8b",
   "metadata": {},
   "outputs": [
    {
     "name": "stdout",
     "output_type": "stream",
     "text": [
      "Preprocessing sur le train set...\n",
      "        hour  dayofweek      Lat      Lon\n",
      "63031      5          6  40.7800 -73.9486\n",
      "100482    11          6  40.7495 -73.9917\n",
      "239000    23          5  40.7475 -74.0089\n",
      "216098    20          2  40.7555 -73.9917\n",
      "160769    13          3  40.6450 -73.7819\n",
      "...Terminé.\n",
      "[[-1.58887328  1.73024028  1.09465112  0.56298699]\n",
      " [-0.57446143  1.73024028  0.24914854 -0.30514713]\n",
      " [ 1.45436227  1.18200191  0.19370575 -0.65159508]\n",
      " [ 0.94715634 -0.46271318  0.41547692 -0.30514713]\n",
      " [-0.23632415  0.08552518 -2.64773734  3.9207122 ]]\n",
      "\n"
     ]
    }
   ],
   "source": [
    "##preprocessing features\n",
    "# Création du pipeline pour les variables quantitatives\n",
    "numeric_features = [0,1,2,3] # Positions des colonnes quantitatives dans X\n",
    "numeric_transformer = Pipeline(steps=[\n",
    "    ('scaler', StandardScaler()) # pour normaliser les variables\n",
    "])\n",
    "\n",
    "# On combine les pipelines dans un ColumnTransformer\n",
    "preprocessor = ColumnTransformer(\n",
    "    transformers=[\n",
    "        ('num', numeric_transformer, numeric_features),\n",
    "    ])\n",
    "\n",
    "# Preprocessings sur le dataset\n",
    "print(\"Preprocessing sur le train set...\")\n",
    "print(df_sample.head())\n",
    "X = preprocessor.fit_transform(df_sample) # fit_transform !!\n",
    "print('...Terminé.')\n",
    "print(X[0:5, :])\n",
    "print()"
   ]
  },
  {
   "cell_type": "markdown",
   "id": "4370d845-ab28-472b-af2c-41448676a4bd",
   "metadata": {},
   "source": [
    "### KMeans method "
   ]
  },
  {
   "cell_type": "code",
   "execution_count": 17,
   "id": "777de3c6-ce16-4e9c-95ba-23be05f35ead",
   "metadata": {},
   "outputs": [
    {
     "name": "stdout",
     "output_type": "stream",
     "text": [
      "[39999.99999999997, 32535.998608692007, 27288.98717764106, 22453.848242072894, 19671.08413091895, 17589.517671633912, 16026.683894363445, 14940.9294518182, 13639.16319923677, 13073.603577046157, 11796.263798419595, 11083.768280855717, 10523.497943903483, 10043.261418500551, 9594.263630291121, 9184.360005130502, 8832.573860567463, 8621.073904102324, 8325.524780274554]\n"
     ]
    }
   ],
   "source": [
    "# Utilisation de la méthode Elbow pour trouver le nombre optimal de clusters\n",
    "\n",
    "wcss =  []\n",
    "for i in range (1,20): \n",
    "    kmeans = KMeans(n_clusters= i, random_state=0)\n",
    "    kmeans.fit(X)\n",
    "    wcss.append(kmeans.inertia_)\n",
    "    \n",
    "print(wcss)"
   ]
  },
  {
   "cell_type": "code",
   "execution_count": 18,
   "id": "2e305a74-6abd-4909-88f3-035d6b3c3b6d",
   "metadata": {},
   "outputs": [
    {
     "data": {
      "text/html": [
       "<iframe\n",
       "    scrolling=\"no\"\n",
       "    width=\"100%\"\n",
       "    height=\"545px\"\n",
       "    src=\"iframe_figures/figure_18.html\"\n",
       "    frameborder=\"0\"\n",
       "    allowfullscreen\n",
       "></iframe>\n"
      ]
     },
     "metadata": {},
     "output_type": "display_data"
    }
   ],
   "source": [
    "fig = px.line(x = range(1,20), y = wcss)\n",
    "fig.show()"
   ]
  },
  {
   "cell_type": "code",
   "execution_count": 19,
   "id": "7391bbe1-5161-4000-9e8f-b964cb2383ad",
   "metadata": {},
   "outputs": [
    {
     "name": "stdout",
     "output_type": "stream",
     "text": [
      "[0.23053494285400894, 0.267313933074676, 0.259006538080643, 0.2614646803032073, 0.26796640094570345, 0.2716017204805086, 0.2738394817304445, 0.2577314095414832, 0.2420677135796497, 0.24115901025900813, 0.24345815643836763, 0.24093061837516042, 0.2413845664919689, 0.2458350179861366, 0.24445522108584447, 0.24837578837408714, 0.23885268473395582, 0.2411682746238321]\n"
     ]
    }
   ],
   "source": [
    "# Utilisation du silhouette_score pour déterminer le nombre optimal de clusters\n",
    "s_score = []\n",
    "for i in range (2,20): \n",
    "    kmeans = KMeans(n_clusters= i, random_state=0)\n",
    "    kmeans.fit(X)\n",
    "    s_score.append(silhouette_score(X, kmeans.predict(X)))\n",
    "\n",
    "print(s_score)"
   ]
  },
  {
   "cell_type": "code",
   "execution_count": 20,
   "id": "56c478cf-dc20-4ef5-b725-bb55c4e8351a",
   "metadata": {},
   "outputs": [
    {
     "data": {
      "text/html": [
       "<iframe\n",
       "    scrolling=\"no\"\n",
       "    width=\"100%\"\n",
       "    height=\"545px\"\n",
       "    src=\"iframe_figures/figure_20.html\"\n",
       "    frameborder=\"0\"\n",
       "    allowfullscreen\n",
       "></iframe>\n"
      ]
     },
     "metadata": {},
     "output_type": "display_data"
    }
   ],
   "source": [
    "# Affichage de scores en fonction du nombre de clusters\n",
    "fig = px.bar(x = range(2,20), y = s_score)\n",
    "fig.show()"
   ]
  },
  {
   "cell_type": "code",
   "execution_count": 21,
   "id": "ce7ba033-0b19-4eb5-8415-d37f0a7c0541",
   "metadata": {
    "tags": []
   },
   "outputs": [
    {
     "data": {
      "text/html": [
       "<div>\n",
       "<style scoped>\n",
       "    .dataframe tbody tr th:only-of-type {\n",
       "        vertical-align: middle;\n",
       "    }\n",
       "\n",
       "    .dataframe tbody tr th {\n",
       "        vertical-align: top;\n",
       "    }\n",
       "\n",
       "    .dataframe thead th {\n",
       "        text-align: right;\n",
       "    }\n",
       "</style>\n",
       "<table border=\"1\" class=\"dataframe\">\n",
       "  <thead>\n",
       "    <tr style=\"text-align: right;\">\n",
       "      <th></th>\n",
       "      <th>hour</th>\n",
       "      <th>dayofweek</th>\n",
       "      <th>Lat</th>\n",
       "      <th>Lon</th>\n",
       "      <th>Cluster_KMeans</th>\n",
       "    </tr>\n",
       "  </thead>\n",
       "  <tbody>\n",
       "    <tr>\n",
       "      <th>63031</th>\n",
       "      <td>5</td>\n",
       "      <td>6</td>\n",
       "      <td>40.7800</td>\n",
       "      <td>-73.9486</td>\n",
       "      <td>0</td>\n",
       "    </tr>\n",
       "    <tr>\n",
       "      <th>100482</th>\n",
       "      <td>11</td>\n",
       "      <td>6</td>\n",
       "      <td>40.7495</td>\n",
       "      <td>-73.9917</td>\n",
       "      <td>0</td>\n",
       "    </tr>\n",
       "    <tr>\n",
       "      <th>239000</th>\n",
       "      <td>23</td>\n",
       "      <td>5</td>\n",
       "      <td>40.7475</td>\n",
       "      <td>-74.0089</td>\n",
       "      <td>3</td>\n",
       "    </tr>\n",
       "    <tr>\n",
       "      <th>216098</th>\n",
       "      <td>20</td>\n",
       "      <td>2</td>\n",
       "      <td>40.7555</td>\n",
       "      <td>-73.9917</td>\n",
       "      <td>1</td>\n",
       "    </tr>\n",
       "    <tr>\n",
       "      <th>160769</th>\n",
       "      <td>13</td>\n",
       "      <td>3</td>\n",
       "      <td>40.6450</td>\n",
       "      <td>-73.7819</td>\n",
       "      <td>2</td>\n",
       "    </tr>\n",
       "  </tbody>\n",
       "</table>\n",
       "</div>"
      ],
      "text/plain": [
       "        hour  dayofweek      Lat      Lon  Cluster_KMeans\n",
       "63031      5          6  40.7800 -73.9486               0\n",
       "100482    11          6  40.7495 -73.9917               0\n",
       "239000    23          5  40.7475 -74.0089               3\n",
       "216098    20          2  40.7555 -73.9917               1\n",
       "160769    13          3  40.6450 -73.7819               2"
      ]
     },
     "execution_count": 21,
     "metadata": {},
     "output_type": "execute_result"
    }
   ],
   "source": [
    "#xwe will keep K=9 as number of clusters and train our model Kmeans with it in order to visualise our clusters\n",
    "kmeans = KMeans(n_clusters= 8, random_state = 0)\n",
    "kmeans.fit(X)\n",
    "\n",
    "df_sample.loc[:,'Cluster_KMeans'] = kmeans.predict(X)\n",
    "df_sample.head()"
   ]
  },
  {
   "cell_type": "code",
   "execution_count": 22,
   "id": "ec265a1e-577e-458c-92f4-e707182c2fea",
   "metadata": {
    "tags": []
   },
   "outputs": [
    {
     "data": {
      "text/html": [
       "<iframe\n",
       "    scrolling=\"no\"\n",
       "    width=\"100%\"\n",
       "    height=\"545px\"\n",
       "    src=\"iframe_figures/figure_22.html\"\n",
       "    frameborder=\"0\"\n",
       "    allowfullscreen\n",
       "></iframe>\n"
      ]
     },
     "metadata": {},
     "output_type": "display_data"
    }
   ],
   "source": [
    "# Visualisation of dataset with mapbox coloured by cluster\n",
    "fig = px.scatter_mapbox(df_sample, lat=\"Lat\", lon=\"Lon\", color='Cluster_KMeans', \n",
    "                        mapbox_style=\"open-street-map\", zoom = 8)\n",
    "fig.show();\n",
    "# --> the cluters are not very distincts specialy in mahatan downtow. however there is a clearly defined cluster of pick ups in upper Brooklyn (yellow cluster)"
   ]
  },
  {
   "cell_type": "code",
   "execution_count": 33,
   "id": "dcca99c2-6ef0-497a-8f44-b1ebf84121e2",
   "metadata": {},
   "outputs": [
    {
     "data": {
      "text/html": [
       "<iframe\n",
       "    scrolling=\"no\"\n",
       "    width=\"100%\"\n",
       "    height=\"545px\"\n",
       "    src=\"iframe_figures/figure_33.html\"\n",
       "    frameborder=\"0\"\n",
       "    allowfullscreen\n",
       "></iframe>\n"
      ]
     },
     "metadata": {},
     "output_type": "display_data"
    }
   ],
   "source": [
    "# Visualisation of dataset with mapbox coloured by cluster and after keeping only saturday as day of week\n",
    "\n",
    "#The day of the week with dt.dayofweek method is Monday=0, ....Sunday=6 \n",
    "\n",
    "fig = px.scatter_mapbox(df_sample[df_sample['hour'] == 8], lat=\"Lat\", lon=\"Lon\", color='Cluster_KMeans', \n",
    "                        mapbox_style=\"open-street-map\", zoom = 8)\n",
    "fig.show()\n",
    "\n",
    "# ---> seems like hot zones of pick ups are concentrated in manhatan downtow in saturdays "
   ]
  },
  {
   "cell_type": "code",
   "execution_count": 44,
   "id": "2b495fac-a9f7-413f-ad9c-14af542e80e8",
   "metadata": {
    "tags": []
   },
   "outputs": [
    {
     "data": {
      "text/html": [
       "<iframe\n",
       "    scrolling=\"no\"\n",
       "    width=\"520px\"\n",
       "    height=\"520\"\n",
       "    src=\"iframe_figures/figure_44.html\"\n",
       "    frameborder=\"0\"\n",
       "    allowfullscreen\n",
       "></iframe>\n"
      ]
     },
     "metadata": {},
     "output_type": "display_data"
    }
   ],
   "source": [
    "test = df_sample.sort_values('hour', ascending = True)\n",
    "fig = px.scatter_mapbox(test, lat=\"Lat\", lon=\"Lon\", mapbox_style=\"open-street-map\",\n",
    "                       animation_frame = 'hour', color ='Cluster_KMeans', zoom = 8, width=500, height=500)\n",
    "fig.show()"
   ]
  },
  {
   "cell_type": "code",
   "execution_count": 46,
   "id": "3fd743b8-3f0d-4eb3-8694-600032afa8d7",
   "metadata": {},
   "outputs": [
    {
     "data": {
      "text/html": [
       "<iframe\n",
       "    scrolling=\"no\"\n",
       "    width=\"520px\"\n",
       "    height=\"520\"\n",
       "    src=\"iframe_figures/figure_46.html\"\n",
       "    frameborder=\"0\"\n",
       "    allowfullscreen\n",
       "></iframe>\n"
      ]
     },
     "metadata": {},
     "output_type": "display_data"
    }
   ],
   "source": [
    "test = df_sample.sort_values('dayofweek', ascending = True)\n",
    "fig = px.scatter_mapbox(test, lat=\"Lat\", lon=\"Lon\", mapbox_style=\"open-street-map\",\n",
    "                       animation_frame = 'dayofweek', color ='Cluster_KMeans', zoom = 8, width=500, height=500)\n",
    "fig.show()"
   ]
  },
  {
   "cell_type": "markdown",
   "id": "f02f5e92-5e55-47ae-931e-9740e7823ce2",
   "metadata": {},
   "source": [
    "### DBSCAN method "
   ]
  },
  {
   "cell_type": "code",
   "execution_count": 47,
   "id": "69a191cd-c3a1-4bf3-a12c-05aa10d5bfd2",
   "metadata": {},
   "outputs": [
    {
     "name": "stdout",
     "output_type": "stream",
     "text": [
      "[[-1.58887328  1.73024028  1.09465112  0.56298699]\n",
      " [-0.57446143  1.73024028  0.24914854 -0.30514713]\n",
      " [ 1.45436227  1.18200191  0.19370575 -0.65159508]\n",
      " ...\n",
      " [-0.57446143 -0.46271318  0.01074454 -0.62541006]\n",
      " [ 0.10181314  0.08552518  0.90891777  0.28502293]\n",
      " [-0.06725551  0.08552518  0.75645009  2.21264323]]\n"
     ]
    }
   ],
   "source": [
    "print(X)"
   ]
  },
  {
   "cell_type": "code",
   "execution_count": 48,
   "id": "bb20c27f-7ff8-4a44-93bb-f17f4a034075",
   "metadata": {},
   "outputs": [
    {
     "data": {
      "text/plain": [
       "DBSCAN(eps=0.3, min_samples=100)"
      ]
     },
     "execution_count": 48,
     "metadata": {},
     "output_type": "execute_result"
    }
   ],
   "source": [
    "db = DBSCAN(eps=0.3, min_samples =100)\n",
    "db.fit(X)"
   ]
  },
  {
   "cell_type": "code",
   "execution_count": 49,
   "id": "e3b8e968-76d5-4501-b831-eca4ffa5eddd",
   "metadata": {},
   "outputs": [
    {
     "data": {
      "text/plain": [
       "array([-1,  0,  1])"
      ]
     },
     "execution_count": 49,
     "metadata": {},
     "output_type": "execute_result"
    }
   ],
   "source": [
    "clusters = db.labels_\n",
    "np.unique(clusters)"
   ]
  },
  {
   "cell_type": "code",
   "execution_count": 50,
   "id": "279e890c-b3a5-4880-8c3a-659b1fb89094",
   "metadata": {},
   "outputs": [
    {
     "data": {
      "text/plain": [
       "-1    9240\n",
       " 0     422\n",
       " 1     338\n",
       "dtype: int64"
      ]
     },
     "execution_count": 50,
     "metadata": {},
     "output_type": "execute_result"
    }
   ],
   "source": [
    "pd.Series(clusters).value_counts()"
   ]
  },
  {
   "cell_type": "code",
   "execution_count": 51,
   "id": "40c7cbdd-bfba-4d63-b3ae-f43e24ac095b",
   "metadata": {},
   "outputs": [
    {
     "data": {
      "text/plain": [
       "-1    4160\n",
       " 0    1493\n",
       " 5     980\n",
       " 2     979\n",
       " 1     885\n",
       " 3     691\n",
       " 4     507\n",
       " 6     154\n",
       " 7     151\n",
       "dtype: int64"
      ]
     },
     "execution_count": 51,
     "metadata": {},
     "output_type": "execute_result"
    }
   ],
   "source": [
    "#many outliers , we should enlarge eps to get more clusters.\n",
    "\n",
    "db = DBSCAN(eps=0.5, min_samples =100)\n",
    "db.fit(X)\n",
    "#np.unique(db.labels_)\n",
    "pd.Series(db.labels_).value_counts()"
   ]
  },
  {
   "cell_type": "code",
   "execution_count": 59,
   "id": "e5e06c5b-dbec-494f-bb73-62f5020b646d",
   "metadata": {},
   "outputs": [
    {
     "data": {
      "text/plain": [
       "-1    6844\n",
       " 0     978\n",
       " 1     713\n",
       " 3     636\n",
       " 2     629\n",
       " 4     200\n",
       "dtype: int64"
      ]
     },
     "execution_count": 59,
     "metadata": {},
     "output_type": "execute_result"
    }
   ],
   "source": [
    "#let's try with a larger min_samples number  ---> too many obersvations considered as outliers now\n",
    "\n",
    "db = DBSCAN(eps=0.5, min_samples =200)\n",
    "db.fit(X)\n",
    "np.unique(db.labels_)\n",
    "pd.Series(db.labels_).value_counts()"
   ]
  },
  {
   "cell_type": "code",
   "execution_count": 60,
   "id": "e6b12a90-126a-4a92-a555-42a1cf5c26d5",
   "metadata": {},
   "outputs": [
    {
     "data": {
      "text/plain": [
       "-1    4160\n",
       " 0    1493\n",
       " 5     980\n",
       " 2     979\n",
       " 1     885\n",
       " 3     691\n",
       " 4     507\n",
       " 6     154\n",
       " 7     151\n",
       "dtype: int64"
      ]
     },
     "execution_count": 60,
     "metadata": {},
     "output_type": "execute_result"
    }
   ],
   "source": [
    "db = DBSCAN(eps=0.5, min_samples =100)\n",
    "db.fit(X)\n",
    "np.unique(db.labels_)\n",
    "pd.Series(db.labels_).value_counts()"
   ]
  },
  {
   "cell_type": "code",
   "execution_count": 61,
   "id": "4d7b547d-2461-4b9d-a03e-05a0074e377f",
   "metadata": {},
   "outputs": [],
   "source": [
    "df_sample.loc[:,'Cluster_DBSCAN'] = db.labels_"
   ]
  },
  {
   "cell_type": "code",
   "execution_count": 64,
   "id": "0a070886-3c76-4e46-99bc-b8ec7dcde6de",
   "metadata": {
    "tags": []
   },
   "outputs": [
    {
     "data": {
      "text/html": [
       "<iframe\n",
       "    scrolling=\"no\"\n",
       "    width=\"100%\"\n",
       "    height=\"545px\"\n",
       "    src=\"iframe_figures/figure_64.html\"\n",
       "    frameborder=\"0\"\n",
       "    allowfullscreen\n",
       "></iframe>\n"
      ]
     },
     "metadata": {},
     "output_type": "display_data"
    }
   ],
   "source": [
    "fig = px.scatter_mapbox(df_sample[df_sample['Cluster_DBSCAN'] != -1], lat=\"Lat\", lon=\"Lon\", color='Cluster_DBSCAN', \n",
    "                        mapbox_style=\"open-street-map\", zoom = 8)\n",
    "fig.show()"
   ]
  },
  {
   "cell_type": "code",
   "execution_count": 65,
   "id": "0cf33549-9be4-4ccc-93ff-c4dec3011c13",
   "metadata": {},
   "outputs": [
    {
     "data": {
      "text/html": [
       "<iframe\n",
       "    scrolling=\"no\"\n",
       "    width=\"100%\"\n",
       "    height=\"545px\"\n",
       "    src=\"iframe_figures/figure_65.html\"\n",
       "    frameborder=\"0\"\n",
       "    allowfullscreen\n",
       "></iframe>\n"
      ]
     },
     "metadata": {},
     "output_type": "display_data"
    }
   ],
   "source": [
    "fig = px.scatter_mapbox(df_sample[(df_sample['hour'] == 20) & (df_sample['Cluster_DBSCAN'] != -1)], lat=\"Lat\", lon=\"Lon\", color='Cluster_DBSCAN', \n",
    "                        mapbox_style=\"open-street-map\", zoom = 8)\n",
    "fig.show()"
   ]
  },
  {
   "cell_type": "code",
   "execution_count": 68,
   "id": "b84244bf-be13-42a5-aa54-d61a853b2ba8",
   "metadata": {},
   "outputs": [
    {
     "data": {
      "text/html": [
       "<iframe\n",
       "    scrolling=\"no\"\n",
       "    width=\"820px\"\n",
       "    height=\"820\"\n",
       "    src=\"iframe_figures/figure_68.html\"\n",
       "    frameborder=\"0\"\n",
       "    allowfullscreen\n",
       "></iframe>\n"
      ]
     },
     "metadata": {},
     "output_type": "display_data"
    }
   ],
   "source": [
    "test = df_sample.sort_values('hour', ascending = True)\n",
    "fig = px.scatter_mapbox(test[test['Cluster_DBSCAN'] !=-1], lat=\"Lat\", lon=\"Lon\", mapbox_style=\"open-street-map\",\n",
    "                       animation_frame = 'hour', color ='Cluster_DBSCAN', zoom = 10, width=800, height=800)\n",
    "fig.show()"
   ]
  },
  {
   "cell_type": "code",
   "execution_count": 69,
   "id": "63abc540-cba4-43b0-b679-7e690e8f38cc",
   "metadata": {},
   "outputs": [
    {
     "data": {
      "text/html": [
       "<iframe\n",
       "    scrolling=\"no\"\n",
       "    width=\"820px\"\n",
       "    height=\"820\"\n",
       "    src=\"iframe_figures/figure_69.html\"\n",
       "    frameborder=\"0\"\n",
       "    allowfullscreen\n",
       "></iframe>\n"
      ]
     },
     "metadata": {},
     "output_type": "display_data"
    }
   ],
   "source": [
    "test = df_sample.sort_values('dayofweek', ascending = True)\n",
    "fig = px.scatter_mapbox(test[test['Cluster_DBSCAN'] !=-1], lat=\"Lat\", lon=\"Lon\", mapbox_style=\"open-street-map\",\n",
    "                       animation_frame = 'dayofweek', color ='Cluster_DBSCAN', zoom = 10, width=800, height=800)\n",
    "fig.show()"
   ]
  },
  {
   "cell_type": "code",
   "execution_count": 72,
   "id": "ac53f5cc-7ab6-49f6-8bc6-42c81fe1db2b",
   "metadata": {},
   "outputs": [
    {
     "data": {
      "text/html": [
       "<iframe\n",
       "    scrolling=\"no\"\n",
       "    width=\"820px\"\n",
       "    height=\"820\"\n",
       "    src=\"iframe_figures/figure_72.html\"\n",
       "    frameborder=\"0\"\n",
       "    allowfullscreen\n",
       "></iframe>\n"
      ]
     },
     "metadata": {},
     "output_type": "display_data"
    }
   ],
   "source": [
    "fig = px.scatter_3d(df_sample[df_sample['Cluster_DBSCAN'] !=-1], x=\"Lat\", y=\"Lon\", z='hour',\n",
    "                       color ='Cluster_DBSCAN', width=800, height=800)\n",
    "fig.show()"
   ]
  },
  {
   "cell_type": "code",
   "execution_count": null,
   "id": "209ed501-8b23-4ffb-8c70-59a472167a15",
   "metadata": {},
   "outputs": [],
   "source": []
  }
 ],
 "metadata": {
  "kernelspec": {
   "display_name": "Python 3 (ipykernel)",
   "language": "python",
   "name": "python3"
  },
  "language_info": {
   "codemirror_mode": {
    "name": "ipython",
    "version": 3
   },
   "file_extension": ".py",
   "mimetype": "text/x-python",
   "name": "python",
   "nbconvert_exporter": "python",
   "pygments_lexer": "ipython3",
   "version": "3.9.7"
  }
 },
 "nbformat": 4,
 "nbformat_minor": 5
}
